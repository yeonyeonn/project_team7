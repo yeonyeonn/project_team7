{
  "nbformat": 4,
  "nbformat_minor": 0,
  "metadata": {
    "colab": {
      "name": "pororo_sentiment.ipynb",
      "provenance": [],
      "collapsed_sections": []
    },
    "kernelspec": {
      "name": "python3",
      "display_name": "Python 3"
    },
    "language_info": {
      "name": "python"
    }
  },
  "cells": [
    {
      "cell_type": "code",
      "metadata": {
        "colab": {
          "base_uri": "https://localhost:8080/",
          "height": 1000
        },
        "id": "9qiNrpZP4qKY",
        "outputId": "58a46430-c371-425a-e281-1e1bdd46dde6"
      },
      "source": [
        "# 뽀로로 설치\n",
        "!pip install pororo"
      ],
      "execution_count": 1,
      "outputs": [
        {
          "output_type": "stream",
          "name": "stdout",
          "text": [
            "Collecting pororo\n",
            "  Downloading pororo-0.4.2-py3-none-any.whl (256 kB)\n",
            "\u001b[K     |████████████████████████████████| 256 kB 4.8 MB/s \n",
            "\u001b[?25hRequirement already satisfied: pillow>=4.1.1 in /usr/local/lib/python3.7/dist-packages (from pororo) (7.1.2)\n",
            "Collecting torch==1.6.0\n",
            "  Downloading torch-1.6.0-cp37-cp37m-manylinux1_x86_64.whl (748.8 MB)\n",
            "\u001b[K     |████████████████████████████████| 748.8 MB 17 kB/s \n",
            "\u001b[?25hCollecting sentence-transformers>=0.4.1.2\n",
            "  Downloading sentence-transformers-2.1.0.tar.gz (78 kB)\n",
            "\u001b[K     |████████████████████████████████| 78 kB 6.0 MB/s \n",
            "\u001b[?25hCollecting torchvision==0.7.0\n",
            "  Downloading torchvision-0.7.0-cp37-cp37m-manylinux1_x86_64.whl (5.9 MB)\n",
            "\u001b[K     |████████████████████████████████| 5.9 MB 11.1 MB/s \n",
            "\u001b[?25hRequirement already satisfied: joblib in /usr/local/lib/python3.7/dist-packages (from pororo) (1.1.0)\n",
            "Collecting nltk>=3.5\n",
            "  Downloading nltk-3.6.5-py3-none-any.whl (1.5 MB)\n",
            "\u001b[K     |████████████████████████████████| 1.5 MB 33.0 MB/s \n",
            "\u001b[?25hRequirement already satisfied: lxml in /usr/local/lib/python3.7/dist-packages (from pororo) (4.2.6)\n",
            "Collecting fairseq>=0.10.2\n",
            "  Downloading fairseq-0.10.2-cp37-cp37m-manylinux1_x86_64.whl (1.7 MB)\n",
            "\u001b[K     |████████████████████████████████| 1.7 MB 24.2 MB/s \n",
            "\u001b[?25hCollecting wget\n",
            "  Downloading wget-3.2.zip (10 kB)\n",
            "Collecting whoosh\n",
            "  Downloading Whoosh-2.7.4-py2.py3-none-any.whl (468 kB)\n",
            "\u001b[K     |████████████████████████████████| 468 kB 51.2 MB/s \n",
            "\u001b[?25hCollecting kss\n",
            "  Downloading kss-3.3.1.1.tar.gz (42.4 MB)\n",
            "\u001b[K     |████████████████████████████████| 42.4 MB 1.3 MB/s \n",
            "\u001b[?25hCollecting word2word\n",
            "  Downloading word2word-1.0.0-py3-none-any.whl (31 kB)\n",
            "Collecting transformers>=4.0.0\n",
            "  Downloading transformers-4.13.0-py3-none-any.whl (3.3 MB)\n",
            "\u001b[K     |████████████████████████████████| 3.3 MB 24.9 MB/s \n",
            "\u001b[?25hCollecting g2p-en\n",
            "  Downloading g2p_en-2.1.0-py3-none-any.whl (3.1 MB)\n",
            "\u001b[K     |████████████████████████████████| 3.1 MB 55.8 MB/s \n",
            "\u001b[?25hCollecting marisa-trie\n",
            "  Downloading marisa_trie-0.7.7-cp37-cp37m-manylinux_2_5_x86_64.manylinux1_x86_64.manylinux_2_12_x86_64.manylinux2010_x86_64.whl (1.2 MB)\n",
            "\u001b[K     |████████████████████████████████| 1.2 MB 70.6 MB/s \n",
            "\u001b[?25hRequirement already satisfied: numpy in /usr/local/lib/python3.7/dist-packages (from torch==1.6.0->pororo) (1.19.5)\n",
            "Requirement already satisfied: future in /usr/local/lib/python3.7/dist-packages (from torch==1.6.0->pororo) (0.16.0)\n",
            "Collecting dataclasses\n",
            "  Downloading dataclasses-0.6-py3-none-any.whl (14 kB)\n",
            "Collecting hydra-core\n",
            "  Downloading hydra_core-1.1.1-py3-none-any.whl (145 kB)\n",
            "\u001b[K     |████████████████████████████████| 145 kB 47.6 MB/s \n",
            "\u001b[?25hRequirement already satisfied: regex in /usr/local/lib/python3.7/dist-packages (from fairseq>=0.10.2->pororo) (2019.12.20)\n",
            "Requirement already satisfied: tqdm in /usr/local/lib/python3.7/dist-packages (from fairseq>=0.10.2->pororo) (4.62.3)\n",
            "Collecting sacrebleu>=1.4.12\n",
            "  Downloading sacrebleu-2.0.0-py3-none-any.whl (90 kB)\n",
            "\u001b[K     |████████████████████████████████| 90 kB 8.7 MB/s \n",
            "\u001b[?25hRequirement already satisfied: cython in /usr/local/lib/python3.7/dist-packages (from fairseq>=0.10.2->pororo) (0.29.24)\n",
            "Requirement already satisfied: cffi in /usr/local/lib/python3.7/dist-packages (from fairseq>=0.10.2->pororo) (1.15.0)\n",
            "Requirement already satisfied: click in /usr/local/lib/python3.7/dist-packages (from nltk>=3.5->pororo) (7.1.2)\n",
            "Collecting regex\n",
            "  Downloading regex-2021.11.10-cp37-cp37m-manylinux_2_17_x86_64.manylinux2014_x86_64.whl (749 kB)\n",
            "\u001b[K     |████████████████████████████████| 749 kB 49.0 MB/s \n",
            "\u001b[?25hRequirement already satisfied: tabulate>=0.8.9 in /usr/local/lib/python3.7/dist-packages (from sacrebleu>=1.4.12->fairseq>=0.10.2->pororo) (0.8.9)\n",
            "Collecting portalocker\n",
            "  Downloading portalocker-2.3.2-py2.py3-none-any.whl (15 kB)\n",
            "Collecting colorama\n",
            "  Downloading colorama-0.4.4-py2.py3-none-any.whl (16 kB)\n",
            "Collecting tokenizers>=0.10.3\n",
            "  Downloading tokenizers-0.10.3-cp37-cp37m-manylinux_2_5_x86_64.manylinux1_x86_64.manylinux_2_12_x86_64.manylinux2010_x86_64.whl (3.3 MB)\n",
            "\u001b[K     |████████████████████████████████| 3.3 MB 45.7 MB/s \n",
            "\u001b[?25hRequirement already satisfied: scikit-learn in /usr/local/lib/python3.7/dist-packages (from sentence-transformers>=0.4.1.2->pororo) (1.0.1)\n",
            "Requirement already satisfied: scipy in /usr/local/lib/python3.7/dist-packages (from sentence-transformers>=0.4.1.2->pororo) (1.4.1)\n",
            "Collecting sentencepiece\n",
            "  Downloading sentencepiece-0.1.96-cp37-cp37m-manylinux_2_17_x86_64.manylinux2014_x86_64.whl (1.2 MB)\n",
            "\u001b[K     |████████████████████████████████| 1.2 MB 34.3 MB/s \n",
            "\u001b[?25hCollecting huggingface-hub\n",
            "  Downloading huggingface_hub-0.2.1-py3-none-any.whl (61 kB)\n",
            "\u001b[K     |████████████████████████████████| 61 kB 450 kB/s \n",
            "\u001b[?25hCollecting pyyaml>=5.1\n",
            "  Downloading PyYAML-6.0-cp37-cp37m-manylinux_2_5_x86_64.manylinux1_x86_64.manylinux_2_12_x86_64.manylinux2010_x86_64.whl (596 kB)\n",
            "\u001b[K     |████████████████████████████████| 596 kB 47.6 MB/s \n",
            "\u001b[?25hRequirement already satisfied: requests in /usr/local/lib/python3.7/dist-packages (from transformers>=4.0.0->pororo) (2.23.0)\n",
            "Requirement already satisfied: filelock in /usr/local/lib/python3.7/dist-packages (from transformers>=4.0.0->pororo) (3.4.0)\n",
            "Collecting sacremoses\n",
            "  Downloading sacremoses-0.0.46-py3-none-any.whl (895 kB)\n",
            "\u001b[K     |████████████████████████████████| 895 kB 58.7 MB/s \n",
            "\u001b[?25hRequirement already satisfied: importlib-metadata in /usr/local/lib/python3.7/dist-packages (from transformers>=4.0.0->pororo) (4.8.2)\n",
            "Requirement already satisfied: packaging>=20.0 in /usr/local/lib/python3.7/dist-packages (from transformers>=4.0.0->pororo) (21.3)\n",
            "Requirement already satisfied: typing-extensions>=3.7.4.3 in /usr/local/lib/python3.7/dist-packages (from huggingface-hub->sentence-transformers>=0.4.1.2->pororo) (3.10.0.2)\n",
            "Requirement already satisfied: pyparsing!=3.0.5,>=2.0.2 in /usr/local/lib/python3.7/dist-packages (from packaging>=20.0->transformers>=4.0.0->pororo) (3.0.6)\n",
            "Requirement already satisfied: pycparser in /usr/local/lib/python3.7/dist-packages (from cffi->fairseq>=0.10.2->pororo) (2.21)\n",
            "Collecting distance>=0.1.3\n",
            "  Downloading Distance-0.1.3.tar.gz (180 kB)\n",
            "\u001b[K     |████████████████████████████████| 180 kB 59.9 MB/s \n",
            "\u001b[?25hRequirement already satisfied: inflect>=0.3.1 in /usr/local/lib/python3.7/dist-packages (from g2p-en->pororo) (2.1.0)\n",
            "Collecting omegaconf==2.1.*\n",
            "  Downloading omegaconf-2.1.1-py3-none-any.whl (74 kB)\n",
            "\u001b[K     |████████████████████████████████| 74 kB 2.8 MB/s \n",
            "\u001b[?25hRequirement already satisfied: importlib-resources in /usr/local/lib/python3.7/dist-packages (from hydra-core->fairseq>=0.10.2->pororo) (5.4.0)\n",
            "Collecting antlr4-python3-runtime==4.8\n",
            "  Downloading antlr4-python3-runtime-4.8.tar.gz (112 kB)\n",
            "\u001b[K     |████████████████████████████████| 112 kB 50.1 MB/s \n",
            "\u001b[?25hRequirement already satisfied: zipp>=0.5 in /usr/local/lib/python3.7/dist-packages (from importlib-metadata->transformers>=4.0.0->pororo) (3.6.0)\n",
            "Collecting emoji\n",
            "  Downloading emoji-1.6.1.tar.gz (170 kB)\n",
            "\u001b[K     |████████████████████████████████| 170 kB 50.3 MB/s \n",
            "\u001b[?25hRequirement already satisfied: setuptools in /usr/local/lib/python3.7/dist-packages (from marisa-trie->pororo) (57.4.0)\n",
            "Requirement already satisfied: certifi>=2017.4.17 in /usr/local/lib/python3.7/dist-packages (from requests->transformers>=4.0.0->pororo) (2021.10.8)\n",
            "Requirement already satisfied: urllib3!=1.25.0,!=1.25.1,<1.26,>=1.21.1 in /usr/local/lib/python3.7/dist-packages (from requests->transformers>=4.0.0->pororo) (1.24.3)\n",
            "Requirement already satisfied: idna<3,>=2.5 in /usr/local/lib/python3.7/dist-packages (from requests->transformers>=4.0.0->pororo) (2.10)\n",
            "Requirement already satisfied: chardet<4,>=3.0.2 in /usr/local/lib/python3.7/dist-packages (from requests->transformers>=4.0.0->pororo) (3.0.4)\n",
            "Requirement already satisfied: six in /usr/local/lib/python3.7/dist-packages (from sacremoses->transformers>=4.0.0->pororo) (1.15.0)\n",
            "Requirement already satisfied: threadpoolctl>=2.0.0 in /usr/local/lib/python3.7/dist-packages (from scikit-learn->sentence-transformers>=0.4.1.2->pororo) (3.0.0)\n",
            "Building wheels for collected packages: sentence-transformers, distance, antlr4-python3-runtime, kss, emoji, wget\n",
            "  Building wheel for sentence-transformers (setup.py) ... \u001b[?25l\u001b[?25hdone\n",
            "  Created wheel for sentence-transformers: filename=sentence_transformers-2.1.0-py3-none-any.whl size=121000 sha256=74d3f890eeb3701bc382bbe1bc4b487f86b1aa1f086b1e3e7babdd46720af8cc\n",
            "  Stored in directory: /root/.cache/pip/wheels/90/f0/bb/ed1add84da70092ea526466eadc2bfb197c4bcb8d4fa5f7bad\n",
            "  Building wheel for distance (setup.py) ... \u001b[?25l\u001b[?25hdone\n",
            "  Created wheel for distance: filename=Distance-0.1.3-py3-none-any.whl size=16275 sha256=f417284d62373bab4fcb0e175fbcaa875ff8bd6f7845f6061416a7308b746edf\n",
            "  Stored in directory: /root/.cache/pip/wheels/b2/10/1b/96fca621a1be378e2fe104cfb0d160bb6cdf3d04a3d35266cc\n",
            "  Building wheel for antlr4-python3-runtime (setup.py) ... \u001b[?25l\u001b[?25hdone\n",
            "  Created wheel for antlr4-python3-runtime: filename=antlr4_python3_runtime-4.8-py3-none-any.whl size=141230 sha256=51c4dce4778edca891975e0151e6245e166d8d37ad5ec7edfcbf8ee11fa18f0d\n",
            "  Stored in directory: /root/.cache/pip/wheels/ca/33/b7/336836125fc9bb4ceaa4376d8abca10ca8bc84ddc824baea6c\n",
            "  Building wheel for kss (setup.py) ... \u001b[?25l\u001b[?25hdone\n",
            "  Created wheel for kss: filename=kss-3.3.1.1-py3-none-any.whl size=42449239 sha256=7b80056b8539988a1a7ad5723bb0c8742da5f35c3dee502458e2b59674f699fc\n",
            "  Stored in directory: /root/.cache/pip/wheels/6e/9d/1d/52871154eff5273abb86b96f4f984c1cd67c5bde64239b060a\n",
            "  Building wheel for emoji (setup.py) ... \u001b[?25l\u001b[?25hdone\n",
            "  Created wheel for emoji: filename=emoji-1.6.1-py3-none-any.whl size=169314 sha256=fcb78828f0a26ffa4232407f1aad9da0f864ccce2d113b7894f5a9efef9d7cb4\n",
            "  Stored in directory: /root/.cache/pip/wheels/ea/5f/d3/03d313ddb3c2a1a427bb4690f1621eea60fe6f2a30cc95940f\n",
            "  Building wheel for wget (setup.py) ... \u001b[?25l\u001b[?25hdone\n",
            "  Created wheel for wget: filename=wget-3.2-py3-none-any.whl size=9672 sha256=b4488e089af42ca2f272eb76df20a473ba66cea3018b80ef762ad72a366a32a3\n",
            "  Stored in directory: /root/.cache/pip/wheels/a1/b6/7c/0e63e34eb06634181c63adacca38b79ff8f35c37e3c13e3c02\n",
            "Successfully built sentence-transformers distance antlr4-python3-runtime kss emoji wget\n",
            "Installing collected packages: regex, pyyaml, antlr4-python3-runtime, torch, tokenizers, sacremoses, portalocker, omegaconf, huggingface-hub, colorama, wget, transformers, torchvision, sentencepiece, sacrebleu, nltk, hydra-core, emoji, distance, dataclasses, word2word, whoosh, sentence-transformers, marisa-trie, kss, g2p-en, fairseq, pororo\n",
            "  Attempting uninstall: regex\n",
            "    Found existing installation: regex 2019.12.20\n",
            "    Uninstalling regex-2019.12.20:\n",
            "      Successfully uninstalled regex-2019.12.20\n",
            "  Attempting uninstall: pyyaml\n",
            "    Found existing installation: PyYAML 3.13\n",
            "    Uninstalling PyYAML-3.13:\n",
            "      Successfully uninstalled PyYAML-3.13\n",
            "  Attempting uninstall: torch\n",
            "    Found existing installation: torch 1.10.0+cu111\n",
            "    Uninstalling torch-1.10.0+cu111:\n",
            "      Successfully uninstalled torch-1.10.0+cu111\n",
            "  Attempting uninstall: torchvision\n",
            "    Found existing installation: torchvision 0.11.1+cu111\n",
            "    Uninstalling torchvision-0.11.1+cu111:\n",
            "      Successfully uninstalled torchvision-0.11.1+cu111\n",
            "  Attempting uninstall: nltk\n",
            "    Found existing installation: nltk 3.2.5\n",
            "    Uninstalling nltk-3.2.5:\n",
            "      Successfully uninstalled nltk-3.2.5\n",
            "\u001b[31mERROR: pip's dependency resolver does not currently take into account all the packages that are installed. This behaviour is the source of the following dependency conflicts.\n",
            "torchtext 0.11.0 requires torch==1.10.0, but you have torch 1.6.0 which is incompatible.\n",
            "torchaudio 0.10.0+cu111 requires torch==1.10.0, but you have torch 1.6.0 which is incompatible.\u001b[0m\n",
            "Successfully installed antlr4-python3-runtime-4.8 colorama-0.4.4 dataclasses-0.6 distance-0.1.3 emoji-1.6.1 fairseq-0.10.2 g2p-en-2.1.0 huggingface-hub-0.2.1 hydra-core-1.1.1 kss-3.3.1.1 marisa-trie-0.7.7 nltk-3.6.5 omegaconf-2.1.1 pororo-0.4.2 portalocker-2.3.2 pyyaml-6.0 regex-2021.11.10 sacrebleu-2.0.0 sacremoses-0.0.46 sentence-transformers-2.1.0 sentencepiece-0.1.96 tokenizers-0.10.3 torch-1.6.0 torchvision-0.7.0 transformers-4.13.0 wget-3.2 whoosh-2.7.4 word2word-1.0.0\n"
          ]
        },
        {
          "output_type": "display_data",
          "data": {
            "application/vnd.colab-display-data+json": {
              "pip_warning": {
                "packages": [
                  "pydevd_plugins"
                ]
              }
            }
          },
          "metadata": {}
        }
      ]
    },
    {
      "cell_type": "code",
      "metadata": {
        "id": "aDFKHEFs5Frj"
      },
      "source": [
        "import pandas as pd\n",
        "from tqdm import tqdm\n",
        "tqdm.pandas()"
      ],
      "execution_count": 2,
      "outputs": []
    },
    {
      "cell_type": "code",
      "metadata": {
        "id": "u4Qol_kd5GWy"
      },
      "source": [
        "from pororo import Pororo"
      ],
      "execution_count": 3,
      "outputs": []
    },
    {
      "cell_type": "markdown",
      "metadata": {
        "id": "g4V1_0xs5bSS"
      },
      "source": [
        "파일 불러오기"
      ]
    },
    {
      "cell_type": "code",
      "metadata": {
        "colab": {
          "base_uri": "https://localhost:8080/"
        },
        "id": "-5xUNvY35dik",
        "outputId": "f98e2915-cbe4-47c9-9e14-25acf6ed20d3"
      },
      "source": [
        "from google.colab import drive \n",
        "drive.mount('/gdrive')"
      ],
      "execution_count": 60,
      "outputs": [
        {
          "output_type": "stream",
          "name": "stdout",
          "text": [
            "Drive already mounted at /gdrive; to attempt to forcibly remount, call drive.mount(\"/gdrive\", force_remount=True).\n"
          ]
        }
      ]
    },
    {
      "cell_type": "code",
      "metadata": {
        "id": "WF-gLX045nUR"
      },
      "source": [
        "df = pd.read_csv(\"/gdrive/MyDrive/GCO2014/RealFinalTotal.csv\", encoding= \"cp949\")"
      ],
      "execution_count": 61,
      "outputs": []
    },
    {
      "cell_type": "code",
      "metadata": {
        "colab": {
          "base_uri": "https://localhost:8080/",
          "height": 310
        },
        "id": "DZ3N7aia6NPV",
        "outputId": "ef9468f5-1c91-4444-fe92-35d6708d51c1"
      },
      "source": [
        "df.head()"
      ],
      "execution_count": 62,
      "outputs": [
        {
          "output_type": "execute_result",
          "data": {
            "text/html": [
              "<div>\n",
              "<style scoped>\n",
              "    .dataframe tbody tr th:only-of-type {\n",
              "        vertical-align: middle;\n",
              "    }\n",
              "\n",
              "    .dataframe tbody tr th {\n",
              "        vertical-align: top;\n",
              "    }\n",
              "\n",
              "    .dataframe thead th {\n",
              "        text-align: right;\n",
              "    }\n",
              "</style>\n",
              "<table border=\"1\" class=\"dataframe\">\n",
              "  <thead>\n",
              "    <tr style=\"text-align: right;\">\n",
              "      <th></th>\n",
              "      <th>Column2</th>\n",
              "      <th>Column1</th>\n",
              "      <th>site</th>\n",
              "      <th>restaurant</th>\n",
              "      <th>type</th>\n",
              "      <th>time</th>\n",
              "      <th>review</th>\n",
              "      <th>date</th>\n",
              "      <th>길이</th>\n",
              "      <th>영어/한글</th>\n",
              "    </tr>\n",
              "  </thead>\n",
              "  <tbody>\n",
              "    <tr>\n",
              "      <th>0</th>\n",
              "      <td>0</td>\n",
              "      <td>0</td>\n",
              "      <td>인스타그램</td>\n",
              "      <td>겐로쿠우동</td>\n",
              "      <td>라멘 / 소바 / 우동</td>\n",
              "      <td>11:30 - 21:30</td>\n",
              "      <td>겐로쿠우동대학로점 겐로쿠우동 니쿠우동 서울맛집 대학로맛집 혜화동맛집 우동맛집 먹스...</td>\n",
              "      <td>2021-11-09</td>\n",
              "      <td>63.0</td>\n",
              "      <td>한글</td>\n",
              "    </tr>\n",
              "    <tr>\n",
              "      <th>1</th>\n",
              "      <td>1</td>\n",
              "      <td>1</td>\n",
              "      <td>네이버지도</td>\n",
              "      <td>겐로쿠우동</td>\n",
              "      <td>라멘 / 소바 / 우동</td>\n",
              "      <td>11:30 - 21:30</td>\n",
              "      <td>너무 맛있고 전통있는 맛집</td>\n",
              "      <td>2021-11-06</td>\n",
              "      <td>14.0</td>\n",
              "      <td>한글</td>\n",
              "    </tr>\n",
              "    <tr>\n",
              "      <th>2</th>\n",
              "      <td>2</td>\n",
              "      <td>2</td>\n",
              "      <td>네이버지도</td>\n",
              "      <td>겐로쿠우동</td>\n",
              "      <td>라멘 / 소바 / 우동</td>\n",
              "      <td>11:30 - 21:30</td>\n",
              "      <td>조앙</td>\n",
              "      <td>2021-11-06</td>\n",
              "      <td>2.0</td>\n",
              "      <td>한글</td>\n",
              "    </tr>\n",
              "    <tr>\n",
              "      <th>3</th>\n",
              "      <td>3</td>\n",
              "      <td>3</td>\n",
              "      <td>네이버지도</td>\n",
              "      <td>겐로쿠우동</td>\n",
              "      <td>라멘 / 소바 / 우동</td>\n",
              "      <td>11:30 - 21:30</td>\n",
              "      <td>고기 양에 비해서 너무 비싸요 면은 원가가 저렴하니까 추가해도 손해가 없어서 850...</td>\n",
              "      <td>2021-11-01</td>\n",
              "      <td>142.0</td>\n",
              "      <td>한글</td>\n",
              "    </tr>\n",
              "    <tr>\n",
              "      <th>4</th>\n",
              "      <td>4</td>\n",
              "      <td>4</td>\n",
              "      <td>네이버지도</td>\n",
              "      <td>겐로쿠우동</td>\n",
              "      <td>라멘 / 소바 / 우동</td>\n",
              "      <td>11:30 - 21:30</td>\n",
              "      <td>직원이 불친절해요</td>\n",
              "      <td>2021-11-01</td>\n",
              "      <td>9.0</td>\n",
              "      <td>한글</td>\n",
              "    </tr>\n",
              "  </tbody>\n",
              "</table>\n",
              "</div>"
            ],
            "text/plain": [
              "   Column2  Column1   site  ...        date     길이 영어/한글\n",
              "0        0        0  인스타그램  ...  2021-11-09   63.0    한글\n",
              "1        1        1  네이버지도  ...  2021-11-06   14.0    한글\n",
              "2        2        2  네이버지도  ...  2021-11-06    2.0    한글\n",
              "3        3        3  네이버지도  ...  2021-11-01  142.0    한글\n",
              "4        4        4  네이버지도  ...  2021-11-01    9.0    한글\n",
              "\n",
              "[5 rows x 10 columns]"
            ]
          },
          "metadata": {},
          "execution_count": 62
        }
      ]
    },
    {
      "cell_type": "code",
      "metadata": {
        "colab": {
          "base_uri": "https://localhost:8080/"
        },
        "id": "B67DyO1i6Q2K",
        "outputId": "c3ce6c00-46aa-4243-a436-0bf8bb273013"
      },
      "source": [
        "df.info()"
      ],
      "execution_count": 63,
      "outputs": [
        {
          "output_type": "stream",
          "name": "stdout",
          "text": [
            "<class 'pandas.core.frame.DataFrame'>\n",
            "RangeIndex: 12106 entries, 0 to 12105\n",
            "Data columns (total 10 columns):\n",
            " #   Column      Non-Null Count  Dtype  \n",
            "---  ------      --------------  -----  \n",
            " 0   Column2     12106 non-null  int64  \n",
            " 1   Column1     12106 non-null  int64  \n",
            " 2   site        12106 non-null  object \n",
            " 3   restaurant  12106 non-null  object \n",
            " 4   type        4230 non-null   object \n",
            " 5   time        3772 non-null   object \n",
            " 6   review      12106 non-null  object \n",
            " 7   date        12106 non-null  object \n",
            " 8   길이          12105 non-null  float64\n",
            " 9   영어/한글       12105 non-null  object \n",
            "dtypes: float64(1), int64(2), object(7)\n",
            "memory usage: 945.9+ KB\n"
          ]
        }
      ]
    },
    {
      "cell_type": "code",
      "metadata": {
        "id": "xyYB_YE59LYT"
      },
      "source": [
        "df['review'] = df['review'].astype(str)"
      ],
      "execution_count": 64,
      "outputs": []
    },
    {
      "cell_type": "markdown",
      "metadata": {
        "id": "zFD9fugq8ba5"
      },
      "source": [
        "## 네이버 쇼핑리뷰 학습 모델,Sentiment Analysis"
      ]
    },
    {
      "cell_type": "code",
      "metadata": {
        "colab": {
          "base_uri": "https://localhost:8080/"
        },
        "id": "857E6rVM8acM",
        "outputId": "a1c185c2-6469-4143-e7dc-5c96e9bf979a"
      },
      "source": [
        "sa = Pororo(task=\"sentiment\", model=\"brainbert.base.ko.shopping\", lang=\"ko\")"
      ],
      "execution_count": 9,
      "outputs": [
        {
          "output_type": "stream",
          "name": "stderr",
          "text": [
            "\n",
            "\n"
          ]
        }
      ]
    },
    {
      "cell_type": "markdown",
      "source": [
        "* 글자 길이 1230개까지 분석 가능"
      ],
      "metadata": {
        "id": "4u08jr0D3ygE"
      }
    },
    {
      "cell_type": "code",
      "source": [
        "a = df[df['길이'] > 1230]['Column2'].tolist()\n",
        "a"
      ],
      "metadata": {
        "colab": {
          "base_uri": "https://localhost:8080/"
        },
        "id": "tu6JL3P54vUy",
        "outputId": "15dd802d-42f5-4eed-c7ff-9e25bf12fc77"
      },
      "execution_count": 17,
      "outputs": [
        {
          "output_type": "execute_result",
          "data": {
            "text/plain": [
              "[34,\n",
              " 487,\n",
              " 513,\n",
              " 986,\n",
              " 995,\n",
              " 1005,\n",
              " 1407,\n",
              " 1526,\n",
              " 2320,\n",
              " 2851,\n",
              " 3076,\n",
              " 4126,\n",
              " 4173,\n",
              " 4240,\n",
              " 4731,\n",
              " 4777,\n",
              " 4792,\n",
              " 4876,\n",
              " 4890,\n",
              " 5643,\n",
              " 5755,\n",
              " 5932,\n",
              " 6181,\n",
              " 6853,\n",
              " 7369,\n",
              " 7786,\n",
              " 8086,\n",
              " 8500,\n",
              " 9243,\n",
              " 9801,\n",
              " 9924,\n",
              " 10213,\n",
              " 10495,\n",
              " 10603,\n",
              " 11152,\n",
              " 11258,\n",
              " 11878,\n",
              " 11899]"
            ]
          },
          "metadata": {},
          "execution_count": 17
        }
      ]
    },
    {
      "cell_type": "code",
      "source": [
        "df['review'][2479] = df['review'][2479][0:1000] "
      ],
      "metadata": {
        "colab": {
          "base_uri": "https://localhost:8080/"
        },
        "id": "ivfkPZJGT5oG",
        "outputId": "d1a684cc-61e3-4f19-8b77-1e4ffa0d1b4e"
      },
      "execution_count": 68,
      "outputs": [
        {
          "output_type": "stream",
          "name": "stderr",
          "text": [
            "/usr/local/lib/python3.7/dist-packages/ipykernel_launcher.py:1: SettingWithCopyWarning: \n",
            "A value is trying to be set on a copy of a slice from a DataFrame\n",
            "\n",
            "See the caveats in the documentation: https://pandas.pydata.org/pandas-docs/stable/user_guide/indexing.html#returning-a-view-versus-a-copy\n",
            "  \"\"\"Entry point for launching an IPython kernel.\n"
          ]
        }
      ]
    },
    {
      "cell_type": "code",
      "source": [
        "df['review'][6541] = df['review'][6541][0:1000] "
      ],
      "metadata": {
        "colab": {
          "base_uri": "https://localhost:8080/"
        },
        "id": "r2NtR6MSdZxN",
        "outputId": "55ca5916-5157-45bd-9a20-8285cac44e7c"
      },
      "execution_count": 71,
      "outputs": [
        {
          "output_type": "stream",
          "name": "stderr",
          "text": [
            "/usr/local/lib/python3.7/dist-packages/ipykernel_launcher.py:1: SettingWithCopyWarning: \n",
            "A value is trying to be set on a copy of a slice from a DataFrame\n",
            "\n",
            "See the caveats in the documentation: https://pandas.pydata.org/pandas-docs/stable/user_guide/indexing.html#returning-a-view-versus-a-copy\n",
            "  \"\"\"Entry point for launching an IPython kernel.\n"
          ]
        }
      ]
    },
    {
      "cell_type": "code",
      "source": [
        "df['review'][7371] = df['review'][7371][0:1000] "
      ],
      "metadata": {
        "colab": {
          "base_uri": "https://localhost:8080/"
        },
        "id": "9oUA7Q6TdwZC",
        "outputId": "4bac33c1-5e26-41b0-c541-f676ba0eff13"
      },
      "execution_count": 73,
      "outputs": [
        {
          "output_type": "stream",
          "name": "stderr",
          "text": [
            "/usr/local/lib/python3.7/dist-packages/ipykernel_launcher.py:1: SettingWithCopyWarning: \n",
            "A value is trying to be set on a copy of a slice from a DataFrame\n",
            "\n",
            "See the caveats in the documentation: https://pandas.pydata.org/pandas-docs/stable/user_guide/indexing.html#returning-a-view-versus-a-copy\n",
            "  \"\"\"Entry point for launching an IPython kernel.\n"
          ]
        }
      ]
    },
    {
      "cell_type": "code",
      "source": [
        "df['review'][7637] = df['review'][7637][500:] "
      ],
      "metadata": {
        "colab": {
          "base_uri": "https://localhost:8080/"
        },
        "id": "zPKGO9N0d-u-",
        "outputId": "38f8d770-f5d1-4b0c-ec33-47df4c4cd718"
      },
      "execution_count": 74,
      "outputs": [
        {
          "output_type": "stream",
          "name": "stderr",
          "text": [
            "/usr/local/lib/python3.7/dist-packages/ipykernel_launcher.py:1: SettingWithCopyWarning: \n",
            "A value is trying to be set on a copy of a slice from a DataFrame\n",
            "\n",
            "See the caveats in the documentation: https://pandas.pydata.org/pandas-docs/stable/user_guide/indexing.html#returning-a-view-versus-a-copy\n",
            "  \"\"\"Entry point for launching an IPython kernel.\n"
          ]
        }
      ]
    },
    {
      "cell_type": "code",
      "source": [
        "df['review'][10660] = df['review'][10660][0:1000] "
      ],
      "metadata": {
        "colab": {
          "base_uri": "https://localhost:8080/"
        },
        "id": "UDZNIUT_eyt6",
        "outputId": "e1f4fc05-583f-4aa3-faf8-591196a5fda9"
      },
      "execution_count": 75,
      "outputs": [
        {
          "output_type": "stream",
          "name": "stderr",
          "text": [
            "/usr/local/lib/python3.7/dist-packages/ipykernel_launcher.py:1: SettingWithCopyWarning: \n",
            "A value is trying to be set on a copy of a slice from a DataFrame\n",
            "\n",
            "See the caveats in the documentation: https://pandas.pydata.org/pandas-docs/stable/user_guide/indexing.html#returning-a-view-versus-a-copy\n",
            "  \"\"\"Entry point for launching an IPython kernel.\n"
          ]
        }
      ]
    },
    {
      "cell_type": "code",
      "source": [
        "df['review'][10795] = df['review'][10795][0:1000] "
      ],
      "metadata": {
        "colab": {
          "base_uri": "https://localhost:8080/"
        },
        "id": "isAZ5aJ_fA4n",
        "outputId": "cd5fb6c8-3c22-4d91-fbd6-a93587c048a8"
      },
      "execution_count": 76,
      "outputs": [
        {
          "output_type": "stream",
          "name": "stderr",
          "text": [
            "/usr/local/lib/python3.7/dist-packages/ipykernel_launcher.py:1: SettingWithCopyWarning: \n",
            "A value is trying to be set on a copy of a slice from a DataFrame\n",
            "\n",
            "See the caveats in the documentation: https://pandas.pydata.org/pandas-docs/stable/user_guide/indexing.html#returning-a-view-versus-a-copy\n",
            "  \"\"\"Entry point for launching an IPython kernel.\n"
          ]
        }
      ]
    },
    {
      "cell_type": "code",
      "source": [
        "df['review'][10897] = df['review'][10897][0:1000] "
      ],
      "metadata": {
        "colab": {
          "base_uri": "https://localhost:8080/"
        },
        "id": "KzchokPAfKmv",
        "outputId": "5422c94b-d6ba-4e7b-c13b-4ddf9c76e258"
      },
      "execution_count": 77,
      "outputs": [
        {
          "output_type": "stream",
          "name": "stderr",
          "text": [
            "/usr/local/lib/python3.7/dist-packages/ipykernel_launcher.py:1: SettingWithCopyWarning: \n",
            "A value is trying to be set on a copy of a slice from a DataFrame\n",
            "\n",
            "See the caveats in the documentation: https://pandas.pydata.org/pandas-docs/stable/user_guide/indexing.html#returning-a-view-versus-a-copy\n",
            "  \"\"\"Entry point for launching an IPython kernel.\n"
          ]
        }
      ]
    },
    {
      "cell_type": "code",
      "source": [
        "df['review'][10936] = df['review'][10936][0:1000] "
      ],
      "metadata": {
        "colab": {
          "base_uri": "https://localhost:8080/"
        },
        "id": "Y7vXSCKNfVy8",
        "outputId": "fba096cd-4b32-4a62-d244-2d97589cf19a"
      },
      "execution_count": 78,
      "outputs": [
        {
          "output_type": "stream",
          "name": "stderr",
          "text": [
            "/usr/local/lib/python3.7/dist-packages/ipykernel_launcher.py:1: SettingWithCopyWarning: \n",
            "A value is trying to be set on a copy of a slice from a DataFrame\n",
            "\n",
            "See the caveats in the documentation: https://pandas.pydata.org/pandas-docs/stable/user_guide/indexing.html#returning-a-view-versus-a-copy\n",
            "  \"\"\"Entry point for launching an IPython kernel.\n"
          ]
        }
      ]
    },
    {
      "cell_type": "code",
      "source": [
        "df['review'][10999] = df['review'][10999][0:1000] "
      ],
      "metadata": {
        "colab": {
          "base_uri": "https://localhost:8080/"
        },
        "id": "i7SdH4cGffXw",
        "outputId": "c37a9778-edee-411c-d0d1-865b69798c35"
      },
      "execution_count": 79,
      "outputs": [
        {
          "output_type": "stream",
          "name": "stderr",
          "text": [
            "/usr/local/lib/python3.7/dist-packages/ipykernel_launcher.py:1: SettingWithCopyWarning: \n",
            "A value is trying to be set on a copy of a slice from a DataFrame\n",
            "\n",
            "See the caveats in the documentation: https://pandas.pydata.org/pandas-docs/stable/user_guide/indexing.html#returning-a-view-versus-a-copy\n",
            "  \"\"\"Entry point for launching an IPython kernel.\n"
          ]
        }
      ]
    },
    {
      "cell_type": "code",
      "source": [
        "df['review'][11923] = df['review'][11923][0:1000] "
      ],
      "metadata": {
        "colab": {
          "base_uri": "https://localhost:8080/"
        },
        "id": "JfttiW-Sf5Qy",
        "outputId": "615506da-8faa-4882-8eab-837f4fea7864"
      },
      "execution_count": 80,
      "outputs": [
        {
          "output_type": "stream",
          "name": "stderr",
          "text": [
            "/usr/local/lib/python3.7/dist-packages/ipykernel_launcher.py:1: SettingWithCopyWarning: \n",
            "A value is trying to be set on a copy of a slice from a DataFrame\n",
            "\n",
            "See the caveats in the documentation: https://pandas.pydata.org/pandas-docs/stable/user_guide/indexing.html#returning-a-view-versus-a-copy\n",
            "  \"\"\"Entry point for launching an IPython kernel.\n"
          ]
        }
      ]
    },
    {
      "cell_type": "code",
      "source": [
        "df['review'][11924] = df['review'][11924][0:1000] "
      ],
      "metadata": {
        "colab": {
          "base_uri": "https://localhost:8080/"
        },
        "id": "hfiYwyiQf-ml",
        "outputId": "06ceb555-cde3-49ad-ca3f-ed8474c35fe4"
      },
      "execution_count": 81,
      "outputs": [
        {
          "output_type": "stream",
          "name": "stderr",
          "text": [
            "/usr/local/lib/python3.7/dist-packages/ipykernel_launcher.py:1: SettingWithCopyWarning: \n",
            "A value is trying to be set on a copy of a slice from a DataFrame\n",
            "\n",
            "See the caveats in the documentation: https://pandas.pydata.org/pandas-docs/stable/user_guide/indexing.html#returning-a-view-versus-a-copy\n",
            "  \"\"\"Entry point for launching an IPython kernel.\n"
          ]
        }
      ]
    },
    {
      "cell_type": "code",
      "source": [
        "df['review'][11992] = df['review'][11992][0:800] "
      ],
      "metadata": {
        "colab": {
          "base_uri": "https://localhost:8080/"
        },
        "id": "qXinkm55gF0g",
        "outputId": "a5b92208-6ee0-4598-e21b-5b835c9ea8c8"
      },
      "execution_count": 84,
      "outputs": [
        {
          "output_type": "stream",
          "name": "stderr",
          "text": [
            "/usr/local/lib/python3.7/dist-packages/ipykernel_launcher.py:1: SettingWithCopyWarning: \n",
            "A value is trying to be set on a copy of a slice from a DataFrame\n",
            "\n",
            "See the caveats in the documentation: https://pandas.pydata.org/pandas-docs/stable/user_guide/indexing.html#returning-a-view-versus-a-copy\n",
            "  \"\"\"Entry point for launching an IPython kernel.\n"
          ]
        }
      ]
    },
    {
      "cell_type": "code",
      "source": [
        "sa(df['review'][6541])"
      ],
      "metadata": {
        "colab": {
          "base_uri": "https://localhost:8080/",
          "height": 35
        },
        "id": "mJQJngm7WoDI",
        "outputId": "375ac97b-94d5-4463-c7e9-7a3c0499ded2"
      },
      "execution_count": 72,
      "outputs": [
        {
          "output_type": "execute_result",
          "data": {
            "application/vnd.google.colaboratory.intrinsic+json": {
              "type": "string"
            },
            "text/plain": [
              "'Positive'"
            ]
          },
          "metadata": {},
          "execution_count": 72
        }
      ]
    },
    {
      "cell_type": "code",
      "metadata": {
        "colab": {
          "base_uri": "https://localhost:8080/"
        },
        "id": "eQrJ6gg68kIP",
        "outputId": "2cb3fa00-800b-49e9-e158-4e4f5a24c241"
      },
      "source": [
        "df['sentiment'] = df['review'].progress_map(lambda x:sa(x))"
      ],
      "execution_count": 85,
      "outputs": [
        {
          "output_type": "stream",
          "name": "stderr",
          "text": [
            "100%|██████████| 12106/12106 [51:22<00:00,  3.93it/s]\n"
          ]
        }
      ]
    },
    {
      "cell_type": "code",
      "metadata": {
        "colab": {
          "base_uri": "https://localhost:8080/"
        },
        "id": "ly53Ls1Z_YhZ",
        "outputId": "9fe586db-5ddf-4ea4-d4b8-3fe634d3dc12"
      },
      "source": [
        "df['sentiment'].value_counts()"
      ],
      "execution_count": 86,
      "outputs": [
        {
          "output_type": "execute_result",
          "data": {
            "text/plain": [
              "Positive    8583\n",
              "Negative    3523\n",
              "Name: sentiment, dtype: int64"
            ]
          },
          "metadata": {},
          "execution_count": 86
        }
      ]
    },
    {
      "cell_type": "code",
      "metadata": {
        "id": "BdDro6NO_mFG"
      },
      "source": [
        "df['sentiment'] = df['sentiment'].replace({\"Positive\":1, \"Negative\":-1})"
      ],
      "execution_count": 87,
      "outputs": []
    },
    {
      "cell_type": "code",
      "source": [
        "df.head()"
      ],
      "metadata": {
        "colab": {
          "base_uri": "https://localhost:8080/",
          "height": 310
        },
        "id": "tcHtRSod45dz",
        "outputId": "5cfe5bf7-b176-46b6-e759-be951fd76e9d"
      },
      "execution_count": 89,
      "outputs": [
        {
          "output_type": "execute_result",
          "data": {
            "text/html": [
              "<div>\n",
              "<style scoped>\n",
              "    .dataframe tbody tr th:only-of-type {\n",
              "        vertical-align: middle;\n",
              "    }\n",
              "\n",
              "    .dataframe tbody tr th {\n",
              "        vertical-align: top;\n",
              "    }\n",
              "\n",
              "    .dataframe thead th {\n",
              "        text-align: right;\n",
              "    }\n",
              "</style>\n",
              "<table border=\"1\" class=\"dataframe\">\n",
              "  <thead>\n",
              "    <tr style=\"text-align: right;\">\n",
              "      <th></th>\n",
              "      <th>Column2</th>\n",
              "      <th>Column1</th>\n",
              "      <th>site</th>\n",
              "      <th>restaurant</th>\n",
              "      <th>type</th>\n",
              "      <th>time</th>\n",
              "      <th>review</th>\n",
              "      <th>date</th>\n",
              "      <th>길이</th>\n",
              "      <th>영어/한글</th>\n",
              "      <th>sentiment</th>\n",
              "    </tr>\n",
              "  </thead>\n",
              "  <tbody>\n",
              "    <tr>\n",
              "      <th>0</th>\n",
              "      <td>0</td>\n",
              "      <td>0</td>\n",
              "      <td>인스타그램</td>\n",
              "      <td>겐로쿠우동</td>\n",
              "      <td>라멘 / 소바 / 우동</td>\n",
              "      <td>11:30 - 21:30</td>\n",
              "      <td>겐로쿠우동대학로점 겐로쿠우동 니쿠우동 서울맛집 대학로맛집 혜화동맛집 우동맛집 먹스...</td>\n",
              "      <td>2021-11-09</td>\n",
              "      <td>63.0</td>\n",
              "      <td>한글</td>\n",
              "      <td>1</td>\n",
              "    </tr>\n",
              "    <tr>\n",
              "      <th>1</th>\n",
              "      <td>1</td>\n",
              "      <td>1</td>\n",
              "      <td>네이버지도</td>\n",
              "      <td>겐로쿠우동</td>\n",
              "      <td>라멘 / 소바 / 우동</td>\n",
              "      <td>11:30 - 21:30</td>\n",
              "      <td>너무 맛있고 전통있는 맛집</td>\n",
              "      <td>2021-11-06</td>\n",
              "      <td>14.0</td>\n",
              "      <td>한글</td>\n",
              "      <td>1</td>\n",
              "    </tr>\n",
              "    <tr>\n",
              "      <th>2</th>\n",
              "      <td>2</td>\n",
              "      <td>2</td>\n",
              "      <td>네이버지도</td>\n",
              "      <td>겐로쿠우동</td>\n",
              "      <td>라멘 / 소바 / 우동</td>\n",
              "      <td>11:30 - 21:30</td>\n",
              "      <td>조앙</td>\n",
              "      <td>2021-11-06</td>\n",
              "      <td>2.0</td>\n",
              "      <td>한글</td>\n",
              "      <td>1</td>\n",
              "    </tr>\n",
              "    <tr>\n",
              "      <th>3</th>\n",
              "      <td>3</td>\n",
              "      <td>3</td>\n",
              "      <td>네이버지도</td>\n",
              "      <td>겐로쿠우동</td>\n",
              "      <td>라멘 / 소바 / 우동</td>\n",
              "      <td>11:30 - 21:30</td>\n",
              "      <td>고기 양에 비해서 너무 비싸요 면은 원가가 저렴하니까 추가해도 손해가 없어서 850...</td>\n",
              "      <td>2021-11-01</td>\n",
              "      <td>142.0</td>\n",
              "      <td>한글</td>\n",
              "      <td>-1</td>\n",
              "    </tr>\n",
              "    <tr>\n",
              "      <th>4</th>\n",
              "      <td>4</td>\n",
              "      <td>4</td>\n",
              "      <td>네이버지도</td>\n",
              "      <td>겐로쿠우동</td>\n",
              "      <td>라멘 / 소바 / 우동</td>\n",
              "      <td>11:30 - 21:30</td>\n",
              "      <td>직원이 불친절해요</td>\n",
              "      <td>2021-11-01</td>\n",
              "      <td>9.0</td>\n",
              "      <td>한글</td>\n",
              "      <td>-1</td>\n",
              "    </tr>\n",
              "  </tbody>\n",
              "</table>\n",
              "</div>"
            ],
            "text/plain": [
              "   Column2  Column1   site restaurant  ...        date     길이 영어/한글 sentiment\n",
              "0        0        0  인스타그램      겐로쿠우동  ...  2021-11-09   63.0    한글         1\n",
              "1        1        1  네이버지도      겐로쿠우동  ...  2021-11-06   14.0    한글         1\n",
              "2        2        2  네이버지도      겐로쿠우동  ...  2021-11-06    2.0    한글         1\n",
              "3        3        3  네이버지도      겐로쿠우동  ...  2021-11-01  142.0    한글        -1\n",
              "4        4        4  네이버지도      겐로쿠우동  ...  2021-11-01    9.0    한글        -1\n",
              "\n",
              "[5 rows x 11 columns]"
            ]
          },
          "metadata": {},
          "execution_count": 89
        }
      ]
    },
    {
      "cell_type": "code",
      "metadata": {
        "id": "xkR6o4pK_xFE",
        "colab": {
          "base_uri": "https://localhost:8080/"
        },
        "outputId": "bdf477ad-aa2f-4bc9-8517-60cc8d2be248"
      },
      "source": [
        "df.groupby('restaurant')['sentiment'].mean()"
      ],
      "execution_count": 101,
      "outputs": [
        {
          "output_type": "execute_result",
          "data": {
            "text/plain": [
              "restaurant\n",
              "겐로쿠우동          0.470588\n",
              "고기공방           0.472803\n",
              "고물상            0.458333\n",
              "깔리             0.366234\n",
              "나누미떡볶이         0.298805\n",
              "낙원테산도          0.264706\n",
              "대통령삼겹살         0.436620\n",
              "대포찜닭           0.057751\n",
              "뎁짜이            0.405063\n",
              "도토리편백집         0.446154\n",
              "독일주택           0.149171\n",
              "돈돈정            0.023256\n",
              "마로화적           0.423077\n",
              "머노까머나          0.539359\n",
              "메밀향그집          0.564103\n",
              "멘야산다이메         0.097345\n",
              "미도인            0.589286\n",
              "미분당            0.483871\n",
              "바오쯔            0.139073\n",
              "버거파크           0.454286\n",
              "불난집            0.151786\n",
              "브라운에비뉴         0.648000\n",
              "삼겹살 전문점 대통령    0.843750\n",
              "서양집            0.510588\n",
              "소친친            0.192661\n",
              "솔나무길된장예술       0.660377\n",
              "오이지            0.644444\n",
              "오이지90          0.512195\n",
              "유자유김치떡볶이       0.731343\n",
              "육미안            0.560976\n",
              "정돈             0.421182\n",
              "쪼리375          0.567251\n",
              "쪼리376         -1.000000\n",
              "칸다소바           0.354298\n",
              "파스타마켓          0.474074\n",
              "페르시안궁전         0.690802\n",
              "포크랜드           0.395349\n",
              "피터팬스테이크        0.486239\n",
              "하이디라오          0.823529\n",
              "현초밥            0.295374\n",
              "혜화도담           0.594502\n",
              "혜화칼국수          0.225564\n",
              "호호식당           0.472949\n",
              "혼가츠            0.248619\n",
              "혼가츠대학로점        0.600000\n",
              "Name: sentiment, dtype: float64"
            ]
          },
          "metadata": {},
          "execution_count": 101
        }
      ]
    },
    {
      "cell_type": "code",
      "source": [
        "df= df.replace(\"쪼리376\",\"쪼리375\")"
      ],
      "metadata": {
        "id": "07Hq6xMyYXOS"
      },
      "execution_count": 104,
      "outputs": []
    },
    {
      "cell_type": "code",
      "source": [
        "df= df.replace(\"혼가츠대학로점\",\"혼가츠\")"
      ],
      "metadata": {
        "id": "xD5Vd6d3Yv3G"
      },
      "execution_count": 107,
      "outputs": []
    },
    {
      "cell_type": "code",
      "source": [
        "df.groupby('restaurant')['sentiment'].mean()"
      ],
      "metadata": {
        "colab": {
          "base_uri": "https://localhost:8080/"
        },
        "id": "dRqaxqabYfA7",
        "outputId": "96e9b122-b84a-4310-9a0b-4286e50bc350"
      },
      "execution_count": 108,
      "outputs": [
        {
          "output_type": "execute_result",
          "data": {
            "text/plain": [
              "restaurant\n",
              "겐로쿠우동          0.470588\n",
              "고기공방           0.472803\n",
              "고물상            0.458333\n",
              "깔리             0.366234\n",
              "나누미떡볶이         0.298805\n",
              "낙원테산도          0.264706\n",
              "대통령삼겹살         0.436620\n",
              "대포찜닭           0.057751\n",
              "뎁짜이            0.405063\n",
              "도토리편백집         0.446154\n",
              "독일주택           0.149171\n",
              "돈돈정            0.023256\n",
              "마로화적           0.423077\n",
              "머노까머나          0.539359\n",
              "메밀향그집          0.564103\n",
              "멘야산다이메         0.097345\n",
              "미도인            0.589286\n",
              "미분당            0.483871\n",
              "바오쯔            0.139073\n",
              "버거파크           0.454286\n",
              "불난집            0.151786\n",
              "브라운에비뉴         0.648000\n",
              "삼겹살 전문점 대통령    0.843750\n",
              "서양집            0.510588\n",
              "소친친            0.192661\n",
              "솔나무길된장예술       0.660377\n",
              "오이지            0.644444\n",
              "오이지90          0.512195\n",
              "유자유김치떡볶이       0.731343\n",
              "육미안            0.560976\n",
              "정돈             0.421182\n",
              "쪼리375          0.558140\n",
              "칸다소바           0.354298\n",
              "파스타마켓          0.474074\n",
              "페르시안궁전         0.690802\n",
              "포크랜드           0.395349\n",
              "피터팬스테이크        0.486239\n",
              "하이디라오          0.823529\n",
              "현초밥            0.295374\n",
              "혜화도담           0.594502\n",
              "혜화칼국수          0.225564\n",
              "호호식당           0.472949\n",
              "혼가츠            0.267016\n",
              "Name: sentiment, dtype: float64"
            ]
          },
          "metadata": {},
          "execution_count": 108
        }
      ]
    },
    {
      "cell_type": "markdown",
      "metadata": {
        "id": "X1r3vKnIF-AI"
      },
      "source": [
        "## 네이버 쇼핑리뷰 학습 모델, Review Rating"
      ]
    },
    {
      "cell_type": "code",
      "metadata": {
        "id": "Ahv_7FmDGD7q",
        "colab": {
          "base_uri": "https://localhost:8080/"
        },
        "outputId": "5efdebf1-d825-4795-dbfc-ee79de1bb479"
      },
      "source": [
        "rr = Pororo(task=\"review\", model=\"brainbert.base.ko.review_rating\", lang=\"ko\")"
      ],
      "execution_count": 90,
      "outputs": [
        {
          "output_type": "stream",
          "name": "stderr",
          "text": [
            "\n"
          ]
        }
      ]
    },
    {
      "cell_type": "code",
      "metadata": {
        "id": "77KP-u4cGGK4",
        "colab": {
          "base_uri": "https://localhost:8080/"
        },
        "outputId": "8899c9e1-f9a0-434b-fd10-125b62104927"
      },
      "source": [
        "df['star_rating'] = df['review'].progress_map(lambda x:rr(x))"
      ],
      "execution_count": 99,
      "outputs": [
        {
          "output_type": "stream",
          "name": "stderr",
          "text": [
            "100%|██████████| 12106/12106 [50:13<00:00,  4.02it/s]\n"
          ]
        }
      ]
    },
    {
      "cell_type": "code",
      "metadata": {
        "id": "RoReCHDMGM1v",
        "colab": {
          "base_uri": "https://localhost:8080/",
          "height": 310
        },
        "outputId": "933f3031-f7aa-44c8-e956-74d3b2e31539"
      },
      "source": [
        "df.head()"
      ],
      "execution_count": 100,
      "outputs": [
        {
          "output_type": "execute_result",
          "data": {
            "text/html": [
              "<div>\n",
              "<style scoped>\n",
              "    .dataframe tbody tr th:only-of-type {\n",
              "        vertical-align: middle;\n",
              "    }\n",
              "\n",
              "    .dataframe tbody tr th {\n",
              "        vertical-align: top;\n",
              "    }\n",
              "\n",
              "    .dataframe thead th {\n",
              "        text-align: right;\n",
              "    }\n",
              "</style>\n",
              "<table border=\"1\" class=\"dataframe\">\n",
              "  <thead>\n",
              "    <tr style=\"text-align: right;\">\n",
              "      <th></th>\n",
              "      <th>Column2</th>\n",
              "      <th>Column1</th>\n",
              "      <th>site</th>\n",
              "      <th>restaurant</th>\n",
              "      <th>type</th>\n",
              "      <th>time</th>\n",
              "      <th>review</th>\n",
              "      <th>date</th>\n",
              "      <th>길이</th>\n",
              "      <th>영어/한글</th>\n",
              "      <th>sentiment</th>\n",
              "      <th>star_rating</th>\n",
              "    </tr>\n",
              "  </thead>\n",
              "  <tbody>\n",
              "    <tr>\n",
              "      <th>0</th>\n",
              "      <td>0</td>\n",
              "      <td>0</td>\n",
              "      <td>인스타그램</td>\n",
              "      <td>겐로쿠우동</td>\n",
              "      <td>라멘 / 소바 / 우동</td>\n",
              "      <td>11:30 - 21:30</td>\n",
              "      <td>겐로쿠우동대학로점 겐로쿠우동 니쿠우동 서울맛집 대학로맛집 혜화동맛집 우동맛집 먹스...</td>\n",
              "      <td>2021-11-09</td>\n",
              "      <td>63.0</td>\n",
              "      <td>한글</td>\n",
              "      <td>1</td>\n",
              "      <td>4.77</td>\n",
              "    </tr>\n",
              "    <tr>\n",
              "      <th>1</th>\n",
              "      <td>1</td>\n",
              "      <td>1</td>\n",
              "      <td>네이버지도</td>\n",
              "      <td>겐로쿠우동</td>\n",
              "      <td>라멘 / 소바 / 우동</td>\n",
              "      <td>11:30 - 21:30</td>\n",
              "      <td>너무 맛있고 전통있는 맛집</td>\n",
              "      <td>2021-11-06</td>\n",
              "      <td>14.0</td>\n",
              "      <td>한글</td>\n",
              "      <td>1</td>\n",
              "      <td>4.78</td>\n",
              "    </tr>\n",
              "    <tr>\n",
              "      <th>2</th>\n",
              "      <td>2</td>\n",
              "      <td>2</td>\n",
              "      <td>네이버지도</td>\n",
              "      <td>겐로쿠우동</td>\n",
              "      <td>라멘 / 소바 / 우동</td>\n",
              "      <td>11:30 - 21:30</td>\n",
              "      <td>조앙</td>\n",
              "      <td>2021-11-06</td>\n",
              "      <td>2.0</td>\n",
              "      <td>한글</td>\n",
              "      <td>1</td>\n",
              "      <td>4.52</td>\n",
              "    </tr>\n",
              "    <tr>\n",
              "      <th>3</th>\n",
              "      <td>3</td>\n",
              "      <td>3</td>\n",
              "      <td>네이버지도</td>\n",
              "      <td>겐로쿠우동</td>\n",
              "      <td>라멘 / 소바 / 우동</td>\n",
              "      <td>11:30 - 21:30</td>\n",
              "      <td>고기 양에 비해서 너무 비싸요 면은 원가가 저렴하니까 추가해도 손해가 없어서 850...</td>\n",
              "      <td>2021-11-01</td>\n",
              "      <td>142.0</td>\n",
              "      <td>한글</td>\n",
              "      <td>-1</td>\n",
              "      <td>2.31</td>\n",
              "    </tr>\n",
              "    <tr>\n",
              "      <th>4</th>\n",
              "      <td>4</td>\n",
              "      <td>4</td>\n",
              "      <td>네이버지도</td>\n",
              "      <td>겐로쿠우동</td>\n",
              "      <td>라멘 / 소바 / 우동</td>\n",
              "      <td>11:30 - 21:30</td>\n",
              "      <td>직원이 불친절해요</td>\n",
              "      <td>2021-11-01</td>\n",
              "      <td>9.0</td>\n",
              "      <td>한글</td>\n",
              "      <td>-1</td>\n",
              "      <td>1.72</td>\n",
              "    </tr>\n",
              "  </tbody>\n",
              "</table>\n",
              "</div>"
            ],
            "text/plain": [
              "   Column2  Column1   site restaurant  ...     길이 영어/한글 sentiment star_rating\n",
              "0        0        0  인스타그램      겐로쿠우동  ...   63.0    한글         1        4.77\n",
              "1        1        1  네이버지도      겐로쿠우동  ...   14.0    한글         1        4.78\n",
              "2        2        2  네이버지도      겐로쿠우동  ...    2.0    한글         1        4.52\n",
              "3        3        3  네이버지도      겐로쿠우동  ...  142.0    한글        -1        2.31\n",
              "4        4        4  네이버지도      겐로쿠우동  ...    9.0    한글        -1        1.72\n",
              "\n",
              "[5 rows x 12 columns]"
            ]
          },
          "metadata": {},
          "execution_count": 100
        }
      ]
    },
    {
      "cell_type": "code",
      "source": [
        "df.groupby('restaurant')['star_rating'].mean()"
      ],
      "metadata": {
        "colab": {
          "base_uri": "https://localhost:8080/"
        },
        "id": "ew64ZijLV62u",
        "outputId": "81135eea-a93c-4c3c-e975-d69f8389ceb4"
      },
      "execution_count": 109,
      "outputs": [
        {
          "output_type": "execute_result",
          "data": {
            "text/plain": [
              "restaurant\n",
              "겐로쿠우동          4.170294\n",
              "고기공방           4.387699\n",
              "고물상            4.328889\n",
              "깔리             4.331948\n",
              "나누미떡볶이         4.153147\n",
              "낙원테산도          4.140441\n",
              "대통령삼겹살         4.293662\n",
              "대포찜닭           4.208784\n",
              "뎁짜이            4.251139\n",
              "도토리편백집         4.270385\n",
              "독일주택           4.104392\n",
              "돈돈정            3.376047\n",
              "마로화적           4.347692\n",
              "머노까머나          4.357289\n",
              "메밀향그집          4.265641\n",
              "멘야산다이메         4.138142\n",
              "미도인            4.273482\n",
              "미분당            4.080968\n",
              "바오쯔            4.081656\n",
              "버거파크           4.265143\n",
              "불난집            3.753839\n",
              "브라운에비뉴         4.263760\n",
              "삼겹살 전문점 대통령    4.565313\n",
              "서양집            4.344212\n",
              "소친친            3.963716\n",
              "솔나무길된장예술       4.534434\n",
              "오이지            4.418333\n",
              "오이지90          4.523171\n",
              "유자유김치떡볶이       4.536119\n",
              "육미안            4.541564\n",
              "정돈             4.189495\n",
              "쪼리375          4.337267\n",
              "칸다소바           4.301656\n",
              "파스타마켓          4.290333\n",
              "페르시안궁전         4.585930\n",
              "포크랜드           4.369419\n",
              "피터팬스테이크        4.295505\n",
              "하이디라오          4.603088\n",
              "현초밥            4.168363\n",
              "혜화도담           4.402096\n",
              "혜화칼국수          4.178747\n",
              "호호식당           4.135323\n",
              "혼가츠            4.079424\n",
              "Name: star_rating, dtype: float64"
            ]
          },
          "metadata": {},
          "execution_count": 109
        }
      ]
    },
    {
      "cell_type": "code",
      "source": [
        "df.to_csv(\"/gdrive/MyDrive/GCO2014/Sentiment_.csv\", encoding=\"euc-kr\")"
      ],
      "metadata": {
        "id": "9hVzql54GTry"
      },
      "execution_count": 110,
      "outputs": []
    }
  ]
}