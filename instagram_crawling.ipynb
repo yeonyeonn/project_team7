{
 "cells": [
  {
   "cell_type": "markdown",
   "metadata": {},
   "source": [
    "## **설치**"
   ]
  },
  {
   "cell_type": "code",
   "execution_count": null,
   "metadata": {},
   "outputs": [],
   "source": [
    "pip install selenium"
   ]
  },
  {
   "cell_type": "code",
   "execution_count": null,
   "metadata": {},
   "outputs": [],
   "source": [
    "pip install BeautifulSoup4"
   ]
  },
  {
   "cell_type": "code",
   "execution_count": null,
   "metadata": {},
   "outputs": [],
   "source": [
    "pip install BeautifulSoup"
   ]
  },
  {
   "cell_type": "markdown",
   "metadata": {},
   "source": [
    "# **인스타그램 크롤링 함수**"
   ]
  },
  {
   "cell_type": "code",
   "execution_count": 12,
   "metadata": {},
   "outputs": [],
   "source": [
    "from selenium import webdriver\n",
    "from bs4 import BeautifulSoup\n",
    "import time # 크롤링 중간중간 시간 지연\n",
    "import re # 정규식 처리\n",
    "import time \n",
    "import re\n",
    "\n",
    "# 검색어에 대한 링크 생성\n",
    "def insta_searching(word, option):\n",
    "    if option == 'tag':\n",
    "        url = \"https://www.instagram.com/explore/tags/\" + str(word)\n",
    "    elif option == 'location':\n",
    "        url = \"https://www.instagram.com/explore/locations/\" + str(word)\n",
    "    return url\n",
    "\n",
    "# 첫 번째 게시물 (인기 게시물 아니고 최근 게시물)\n",
    "def select_first(driver): \n",
    "    first = driver.find_element_by_xpath('//*[@id=\"react-root\"]/section/main/article/div[2]/div/div[1]/div[1]/a/div[1]/div[2]')\n",
    "    first.click()\n",
    "    time.sleep(5)\n",
    "\n",
    "# 한 게시물 크롤링 완료 후 다음 게시물 클릭\n",
    "def move_next(driver):\n",
    "    right = driver.find_element_by_css_selector('body > div._2dDPU.QPGbb.CkGkG > div.EfHg9 > div > div > div.l8mY4.feth3 > button')\n",
    "    right.click()\n",
    "    time.sleep(2)"
   ]
  },
  {
   "cell_type": "code",
   "execution_count": 3,
   "metadata": {},
   "outputs": [],
   "source": [
    "import re\n",
    "from bs4 import BeautifulSoup\n",
    "\n",
    "def get_content(driver):\n",
    "    html = driver.page_source\n",
    "    soup = BeautifulSoup(html, 'lxml')\n",
    "\n",
    "    # 본문 텍스트 내용 가져오기\n",
    "    try:\n",
    "        content = soup.select('div.C4VMK > span')[0].text\n",
    "    except:\n",
    "        content = ' '\n",
    "\n",
    "    # 본문 내 해시태그 가져오기\n",
    "    tags = re.findall(r'#[^\\s#,\\\\]+', content)\n",
    "\n",
    "    # 작성일자 가져오기\n",
    "    date = soup.select('time._1o9PC.Nzb55')[0]['datetime'][:10]\n",
    "\n",
    "    # 좋아요 개수 가져오기\n",
    "    try:\n",
    "        like = soup.select('a.zV_Nj')[0].text[4:-1]\n",
    "    except:\n",
    "        like = 0\n",
    "    \n",
    "    # 위치\n",
    "    try:\n",
    "        place = soup.select('div.M30cS')[0].text\n",
    "    except:\n",
    "        place = ''\n",
    "    \n",
    "    # 크롤링한 데이터 리스트 형태로 반환\n",
    "    data = [content, date, like, place, tags]\n",
    "    return data  "
   ]
  },
  {
   "cell_type": "markdown",
   "metadata": {},
   "source": [
    "# **본격적인 크롤링 과정, 데이터 수집하기: 인스타그램 로그인 및 크롤링 작업**"
   ]
  },
  {
   "cell_type": "code",
   "execution_count": null,
   "metadata": {},
   "outputs": [],
   "source": [
    "import pandas as pd\n",
    "\n",
    "driver = webdriver.Chrome('chromedriver.exe')\n",
    "driver.get('https://www.instagram.com')\n",
    "time.sleep(3)\n",
    "\n",
    "# 인스타그램 로그인\n",
    "email = '인스타그램 아이디'\n",
    "input_id = driver.find_elements_by_css_selector('input._2hvTZ.pexuQ.zyHYP')[0]\n",
    "input_id.clear()\n",
    "input_id.send_keys(email)\n",
    "\n",
    "password = '인스타그램 비밀번호'\n",
    "input_pw = driver.find_elements_by_css_selector('input._2hvTZ.pexuQ.zyHYP')[1]\n",
    "input_pw.clear()\n",
    "input_pw.send_keys(password)\n",
    "input_pw.submit()\n",
    "\n",
    "time.sleep(3)\n",
    "\n",
    "# 팝업창들 스킵 (필요시 삭제)\n",
    "skip_button1 = driver.find_element_by_css_selector('button.sqdOP.yWX7d.y3zKF')\n",
    "skip_button1.click()\n",
    "\n",
    "time.sleep(3)\n",
    "\n",
    "# 팝업창들 스킵 (필요시 삭제)\n",
    "skip_button2 = driver.find_element_by_css_selector('button.aOOlW.HoLwm')\n",
    "skip_button2.click()\n",
    "\n",
    "\n",
    "# 검색어 입력 및 본격적 크롤링\n",
    "word = input(\"검색어: \")\n",
    "word = str(word)\n",
    "url = insta_searching(word, \"tag\")\n",
    "\n",
    "# 검색 결과 페이지 열기\n",
    "driver.get(url)\n",
    "time.sleep(7)\n",
    "\n",
    "# 첫번째 게시물 클릭\n",
    "select_first(driver)\n",
    "\n",
    "# 데이터 크롤링\n",
    "results = []\n",
    "\n",
    "# 수집할 게시물의 수\n",
    "target = 60\n",
    "for i in range(target):\n",
    "    if i in [100, 200, 300, 400, 500, 600, 700, 800, 900, 1000, 1500, 2000, 2500, 3000, 3500, 4000, 4500, 5000]:\n",
    "        print(i)\n",
    "\n",
    "    try:\n",
    "        data = get_content(driver)\n",
    "        results.append(data)\n",
    "        move_next(driver)\n",
    "    except:\n",
    "        time.sleep(2)\n",
    "        move_next(driver)\n",
    "    \n",
    "print(results[:2])\n",
    "\n",
    "results_df = pd.DataFrame(results)\n",
    "results_df.columns = ['review', 'date', 'likes', 'place', 'hashtags']\n",
    "results_df.to_csv('파일이름.csv')\n"
   ]
  }
 ],
 "metadata": {
  "interpreter": {
   "hash": "218d0a86f9e6243480a5996473a1bbe992232922d4f2c99c404420beb83db5b8"
  },
  "kernelspec": {
   "display_name": "Python 3.8.2 32-bit",
   "name": "python3"
  },
  "language_info": {
   "codemirror_mode": {
    "name": "ipython",
    "version": 3
   },
   "file_extension": ".py",
   "mimetype": "text/x-python",
   "name": "python",
   "nbconvert_exporter": "python",
   "pygments_lexer": "ipython3",
   "version": "3.8.2"
  },
  "orig_nbformat": 4
 },
 "nbformat": 4,
 "nbformat_minor": 2
}
