{
 "cells": [
  {
   "cell_type": "markdown",
   "metadata": {},
   "source": [
    "# **데이터 토큰화**"
   ]
  },
  {
   "cell_type": "code",
   "execution_count": 4,
   "metadata": {},
   "outputs": [],
   "source": [
    "import pandas as pd\n",
    "import numpy as np\n",
    "import os\n",
    "import re"
   ]
  },
  {
   "cell_type": "code",
   "execution_count": 1,
   "metadata": {},
   "outputs": [
    {
     "data": {
      "text/plain": [
       "'3.10.0'"
      ]
     },
     "execution_count": 1,
     "metadata": {},
     "output_type": "execute_result"
    }
   ],
   "source": [
    "import tweepy\n",
    "tweepy.__version__"
   ]
  },
  {
   "cell_type": "code",
   "execution_count": 2,
   "metadata": {},
   "outputs": [],
   "source": [
    "import konlpy\n",
    "from konlpy.tag import *"
   ]
  },
  {
   "cell_type": "code",
   "execution_count": 6,
   "metadata": {},
   "outputs": [
    {
     "name": "stdout",
     "output_type": "stream",
     "text": [
      "C:\\Users\\82105\\Desktop\\프로젝트 7조\\인스타그램 크롤링 코드\n"
     ]
    }
   ],
   "source": [
    "cd \"C:\\Users\\82105\\Desktop\\프로젝트 7조\\인스타그램 크롤링 코드\""
   ]
  },
  {
   "cell_type": "code",
   "execution_count": 7,
   "metadata": {},
   "outputs": [],
   "source": [
    "df = pd.read_csv(\"RealFinalTotal.csv\", engine='python', encoding='cp949')\n",
    "df = df.drop(['Column2', 'Column1'], axis = 1)"
   ]
  },
  {
   "cell_type": "code",
   "execution_count": 8,
   "metadata": {},
   "outputs": [],
   "source": [
    "df.insert(8, 'phrases', [0 for i in range(12106)])\n",
    "df.insert(9, 'morphs', [0 for i in range(12106)])\n",
    "df.insert(10, 'nouns', [0 for i in range(12106)])\n",
    "df.insert(11, 'pos', [0 for i in range(12106)])"
   ]
  },
  {
   "cell_type": "code",
   "execution_count": 9,
   "metadata": {},
   "outputs": [
    {
     "data": {
      "text/html": [
       "<div>\n",
       "<style scoped>\n",
       "    .dataframe tbody tr th:only-of-type {\n",
       "        vertical-align: middle;\n",
       "    }\n",
       "\n",
       "    .dataframe tbody tr th {\n",
       "        vertical-align: top;\n",
       "    }\n",
       "\n",
       "    .dataframe thead th {\n",
       "        text-align: right;\n",
       "    }\n",
       "</style>\n",
       "<table border=\"1\" class=\"dataframe\">\n",
       "  <thead>\n",
       "    <tr style=\"text-align: right;\">\n",
       "      <th></th>\n",
       "      <th>site</th>\n",
       "      <th>restaurant</th>\n",
       "      <th>type</th>\n",
       "      <th>time</th>\n",
       "      <th>review</th>\n",
       "      <th>date</th>\n",
       "      <th>길이</th>\n",
       "      <th>영어/한글</th>\n",
       "      <th>phrases</th>\n",
       "      <th>morphs</th>\n",
       "      <th>nouns</th>\n",
       "      <th>pos</th>\n",
       "    </tr>\n",
       "  </thead>\n",
       "  <tbody>\n",
       "    <tr>\n",
       "      <th>0</th>\n",
       "      <td>인스타그램</td>\n",
       "      <td>겐로쿠우동</td>\n",
       "      <td>라멘 / 소바 / 우동</td>\n",
       "      <td>11:30 - 21:30</td>\n",
       "      <td>겐로쿠우동대학로점 겐로쿠우동 니쿠우동 서울맛집 대학로맛집 혜화동맛집 우동맛집 먹스...</td>\n",
       "      <td>2021-11-09</td>\n",
       "      <td>63.0</td>\n",
       "      <td>한글</td>\n",
       "      <td>0</td>\n",
       "      <td>0</td>\n",
       "      <td>0</td>\n",
       "      <td>0</td>\n",
       "    </tr>\n",
       "    <tr>\n",
       "      <th>1</th>\n",
       "      <td>네이버지도</td>\n",
       "      <td>겐로쿠우동</td>\n",
       "      <td>라멘 / 소바 / 우동</td>\n",
       "      <td>11:30 - 21:30</td>\n",
       "      <td>너무 맛있고 전통있는 맛집</td>\n",
       "      <td>2021-11-06</td>\n",
       "      <td>14.0</td>\n",
       "      <td>한글</td>\n",
       "      <td>0</td>\n",
       "      <td>0</td>\n",
       "      <td>0</td>\n",
       "      <td>0</td>\n",
       "    </tr>\n",
       "    <tr>\n",
       "      <th>2</th>\n",
       "      <td>네이버지도</td>\n",
       "      <td>겐로쿠우동</td>\n",
       "      <td>라멘 / 소바 / 우동</td>\n",
       "      <td>11:30 - 21:30</td>\n",
       "      <td>조앙</td>\n",
       "      <td>2021-11-06</td>\n",
       "      <td>2.0</td>\n",
       "      <td>한글</td>\n",
       "      <td>0</td>\n",
       "      <td>0</td>\n",
       "      <td>0</td>\n",
       "      <td>0</td>\n",
       "    </tr>\n",
       "    <tr>\n",
       "      <th>3</th>\n",
       "      <td>네이버지도</td>\n",
       "      <td>겐로쿠우동</td>\n",
       "      <td>라멘 / 소바 / 우동</td>\n",
       "      <td>11:30 - 21:30</td>\n",
       "      <td>고기 양에 비해서 너무 비싸요 면은 원가가 저렴하니까 추가해도 손해가 없어서 850...</td>\n",
       "      <td>2021-11-01</td>\n",
       "      <td>142.0</td>\n",
       "      <td>한글</td>\n",
       "      <td>0</td>\n",
       "      <td>0</td>\n",
       "      <td>0</td>\n",
       "      <td>0</td>\n",
       "    </tr>\n",
       "    <tr>\n",
       "      <th>4</th>\n",
       "      <td>네이버지도</td>\n",
       "      <td>겐로쿠우동</td>\n",
       "      <td>라멘 / 소바 / 우동</td>\n",
       "      <td>11:30 - 21:30</td>\n",
       "      <td>직원이 불친절해요</td>\n",
       "      <td>2021-11-01</td>\n",
       "      <td>9.0</td>\n",
       "      <td>한글</td>\n",
       "      <td>0</td>\n",
       "      <td>0</td>\n",
       "      <td>0</td>\n",
       "      <td>0</td>\n",
       "    </tr>\n",
       "  </tbody>\n",
       "</table>\n",
       "</div>"
      ],
      "text/plain": [
       "    site restaurant          type           time  \\\n",
       "0  인스타그램      겐로쿠우동  라멘 / 소바 / 우동  11:30 - 21:30   \n",
       "1  네이버지도      겐로쿠우동  라멘 / 소바 / 우동  11:30 - 21:30   \n",
       "2  네이버지도      겐로쿠우동  라멘 / 소바 / 우동  11:30 - 21:30   \n",
       "3  네이버지도      겐로쿠우동  라멘 / 소바 / 우동  11:30 - 21:30   \n",
       "4  네이버지도      겐로쿠우동  라멘 / 소바 / 우동  11:30 - 21:30   \n",
       "\n",
       "                                              review        date     길이 영어/한글  \\\n",
       "0   겐로쿠우동대학로점 겐로쿠우동 니쿠우동 서울맛집 대학로맛집 혜화동맛집 우동맛집 먹스...  2021-11-09   63.0    한글   \n",
       "1                                     너무 맛있고 전통있는 맛집  2021-11-06   14.0    한글   \n",
       "2                                                 조앙  2021-11-06    2.0    한글   \n",
       "3  고기 양에 비해서 너무 비싸요 면은 원가가 저렴하니까 추가해도 손해가 없어서 850...  2021-11-01  142.0    한글   \n",
       "4                                          직원이 불친절해요  2021-11-01    9.0    한글   \n",
       "\n",
       "   phrases  morphs  nouns  pos  \n",
       "0        0       0      0    0  \n",
       "1        0       0      0    0  \n",
       "2        0       0      0    0  \n",
       "3        0       0      0    0  \n",
       "4        0       0      0    0  "
      ]
     },
     "execution_count": 9,
     "metadata": {},
     "output_type": "execute_result"
    }
   ],
   "source": [
    "df.head()"
   ]
  },
  {
   "cell_type": "code",
   "execution_count": 10,
   "metadata": {},
   "outputs": [],
   "source": [
    "def tokenize(content):\n",
    "    tokenizer = {}\n",
    "    result = {}\n",
    "\n",
    "    tokenizer = Okt()\n",
    "    result['phrases'] = tokenizer.phrases(content)\n",
    "    result['morphs'] = tokenizer.morphs(content)\n",
    "    result['nouns'] = tokenizer.nouns(content)\n",
    "    result['pos'] = tokenizer.pos(content)\n",
    "\n",
    "    return result"
   ]
  },
  {
   "cell_type": "code",
   "execution_count": 11,
   "metadata": {},
   "outputs": [
    {
     "name": "stderr",
     "output_type": "stream",
     "text": [
      "C:\\Users\\82105\\AppData\\Local\\Programs\\Python\\Python310\\lib\\site-packages\\pandas\\core\\indexing.py:1732: SettingWithCopyWarning: \n",
      "A value is trying to be set on a copy of a slice from a DataFrame\n",
      "\n",
      "See the caveats in the documentation: https://pandas.pydata.org/pandas-docs/stable/user_guide/indexing.html#returning-a-view-versus-a-copy\n",
      "  self._setitem_single_block(indexer, value, name)\n"
     ]
    }
   ],
   "source": [
    "for i in range(len(df['review'])):\n",
    "    try:\n",
    "        review = df['review'].iloc[i] \n",
    "        result = tokenize(review)\n",
    "\n",
    "        df['phrases'].iloc[i] = result['phrases']\n",
    "        df['morphs'].iloc[i] = result['morphs']\n",
    "        df['nouns'].iloc[i] = result['nouns']\n",
    "        df['pos'].iloc[i] = result['pos']\n",
    "\n",
    "    except:\n",
    "        print(i, \" passed\")\n"
   ]
  },
  {
   "cell_type": "code",
   "execution_count": null,
   "metadata": {},
   "outputs": [],
   "source": [
    "df.to_csv(\"tokenized.csv\")"
   ]
  }
 ],
 "metadata": {
  "interpreter": {
   "hash": "8fa606e4e5bfc43505e697f8d23ee2a82f869a36ff50f4e7b10642aed3fa26e4"
  },
  "kernelspec": {
   "display_name": "Python 3.10.0 64-bit",
   "language": "python",
   "name": "python3"
  },
  "language_info": {
   "codemirror_mode": {
    "name": "ipython",
    "version": 3
   },
   "file_extension": ".py",
   "mimetype": "text/x-python",
   "name": "python",
   "nbconvert_exporter": "python",
   "pygments_lexer": "ipython3",
   "version": "3.10.0"
  },
  "orig_nbformat": 4
 },
 "nbformat": 4,
 "nbformat_minor": 2
}
