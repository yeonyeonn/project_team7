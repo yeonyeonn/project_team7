{
 "cells": [
  {
   "cell_type": "code",
   "execution_count": 3,
   "metadata": {},
   "outputs": [],
   "source": [
    "import pandas as pd\n",
    "import numpy as np\n",
    "import os\n",
    "import re"
   ]
  },
  {
   "cell_type": "code",
   "execution_count": 4,
   "metadata": {},
   "outputs": [
    {
     "name": "stdout",
     "output_type": "stream",
     "text": [
      "c:\\Users\\82105\\Desktop\\프로젝트 7조\\인스타그램 크롤링 코드\n"
     ]
    }
   ],
   "source": [
    "cd \"C:\\Users\\82105\\Desktop\\프로젝트 7조\\인스타그램 크롤링 코드\""
   ]
  },
  {
   "cell_type": "code",
   "execution_count": 3,
   "metadata": {},
   "outputs": [
    {
     "data": {
      "text/html": [
       "<div>\n",
       "<style scoped>\n",
       "    .dataframe tbody tr th:only-of-type {\n",
       "        vertical-align: middle;\n",
       "    }\n",
       "\n",
       "    .dataframe tbody tr th {\n",
       "        vertical-align: top;\n",
       "    }\n",
       "\n",
       "    .dataframe thead th {\n",
       "        text-align: right;\n",
       "    }\n",
       "</style>\n",
       "<table border=\"1\" class=\"dataframe\">\n",
       "  <thead>\n",
       "    <tr style=\"text-align: right;\">\n",
       "      <th></th>\n",
       "      <th>site</th>\n",
       "      <th>restaurant</th>\n",
       "      <th>type</th>\n",
       "      <th>time</th>\n",
       "      <th>review</th>\n",
       "      <th>date</th>\n",
       "    </tr>\n",
       "  </thead>\n",
       "  <tbody>\n",
       "    <tr>\n",
       "      <th>0</th>\n",
       "      <td>인스타그램</td>\n",
       "      <td>겐로쿠우동</td>\n",
       "      <td>라멘 / 소바 / 우동</td>\n",
       "      <td>11:30 - 21:30</td>\n",
       "      <td>겐로쿠우동대학로점  겐로쿠우동  니쿠우동  서울맛집  대학로맛집  혜화동맛집  우...</td>\n",
       "      <td>2021-11-09</td>\n",
       "    </tr>\n",
       "    <tr>\n",
       "      <th>1</th>\n",
       "      <td>네이버지도</td>\n",
       "      <td>겐로쿠우동</td>\n",
       "      <td>라멘 / 소바 / 우동</td>\n",
       "      <td>11:30 - 21:30</td>\n",
       "      <td>너무 맛있고 전통있는 맛집</td>\n",
       "      <td>2021-11-06</td>\n",
       "    </tr>\n",
       "    <tr>\n",
       "      <th>2</th>\n",
       "      <td>네이버지도</td>\n",
       "      <td>겐로쿠우동</td>\n",
       "      <td>라멘 / 소바 / 우동</td>\n",
       "      <td>11:30 - 21:30</td>\n",
       "      <td>조앙</td>\n",
       "      <td>2021-11-06</td>\n",
       "    </tr>\n",
       "    <tr>\n",
       "      <th>3</th>\n",
       "      <td>네이버지도</td>\n",
       "      <td>겐로쿠우동</td>\n",
       "      <td>라멘 / 소바 / 우동</td>\n",
       "      <td>11:30 - 21:30</td>\n",
       "      <td>고기 양에 비해서 너무 비싸요   면은 원가가 저렴하니까 추가해도 손해가 없어서 8...</td>\n",
       "      <td>2021-11-01</td>\n",
       "    </tr>\n",
       "    <tr>\n",
       "      <th>4</th>\n",
       "      <td>네이버지도</td>\n",
       "      <td>겐로쿠우동</td>\n",
       "      <td>라멘 / 소바 / 우동</td>\n",
       "      <td>11:30 - 21:30</td>\n",
       "      <td>직원이 불친절해요</td>\n",
       "      <td>2021-11-01</td>\n",
       "    </tr>\n",
       "  </tbody>\n",
       "</table>\n",
       "</div>"
      ],
      "text/plain": [
       "    site restaurant          type           time  \\\n",
       "0  인스타그램      겐로쿠우동  라멘 / 소바 / 우동  11:30 - 21:30   \n",
       "1  네이버지도      겐로쿠우동  라멘 / 소바 / 우동  11:30 - 21:30   \n",
       "2  네이버지도      겐로쿠우동  라멘 / 소바 / 우동  11:30 - 21:30   \n",
       "3  네이버지도      겐로쿠우동  라멘 / 소바 / 우동  11:30 - 21:30   \n",
       "4  네이버지도      겐로쿠우동  라멘 / 소바 / 우동  11:30 - 21:30   \n",
       "\n",
       "                                              review        date  \n",
       "0   겐로쿠우동대학로점  겐로쿠우동  니쿠우동  서울맛집  대학로맛집  혜화동맛집  우...  2021-11-09  \n",
       "1                                     너무 맛있고 전통있는 맛집  2021-11-06  \n",
       "2                                                 조앙  2021-11-06  \n",
       "3  고기 양에 비해서 너무 비싸요   면은 원가가 저렴하니까 추가해도 손해가 없어서 8...  2021-11-01  \n",
       "4                                          직원이 불친절해요  2021-11-01  "
      ]
     },
     "execution_count": 3,
     "metadata": {},
     "output_type": "execute_result"
    }
   ],
   "source": [
    "df = pd.read_csv(\"total.csv\", engine='python', encoding='cp949')\n",
    "df.head()"
   ]
  },
  {
   "cell_type": "code",
   "execution_count": 13,
   "metadata": {},
   "outputs": [],
   "source": [
    "# review 열 기준 중복 행 제거\n",
    "df = df.drop_duplicates(['review'])"
   ]
  },
  {
   "cell_type": "code",
   "execution_count": 14,
   "metadata": {},
   "outputs": [
    {
     "data": {
      "text/html": [
       "<div>\n",
       "<style scoped>\n",
       "    .dataframe tbody tr th:only-of-type {\n",
       "        vertical-align: middle;\n",
       "    }\n",
       "\n",
       "    .dataframe tbody tr th {\n",
       "        vertical-align: top;\n",
       "    }\n",
       "\n",
       "    .dataframe thead th {\n",
       "        text-align: right;\n",
       "    }\n",
       "</style>\n",
       "<table border=\"1\" class=\"dataframe\">\n",
       "  <thead>\n",
       "    <tr style=\"text-align: right;\">\n",
       "      <th></th>\n",
       "      <th>site</th>\n",
       "      <th>restaurant</th>\n",
       "      <th>type</th>\n",
       "      <th>time</th>\n",
       "      <th>review</th>\n",
       "      <th>date</th>\n",
       "    </tr>\n",
       "  </thead>\n",
       "  <tbody>\n",
       "    <tr>\n",
       "      <th>0</th>\n",
       "      <td>인스타그램</td>\n",
       "      <td>겐로쿠우동</td>\n",
       "      <td>라멘 / 소바 / 우동</td>\n",
       "      <td>11:30 - 21:30</td>\n",
       "      <td>겐로쿠우동대학로점  겐로쿠우동  니쿠우동  서울맛집  대학로맛집  혜화동맛집  우...</td>\n",
       "      <td>2021-11-09</td>\n",
       "    </tr>\n",
       "    <tr>\n",
       "      <th>1</th>\n",
       "      <td>네이버지도</td>\n",
       "      <td>겐로쿠우동</td>\n",
       "      <td>라멘 / 소바 / 우동</td>\n",
       "      <td>11:30 - 21:30</td>\n",
       "      <td>너무 맛있고 전통있는 맛집</td>\n",
       "      <td>2021-11-06</td>\n",
       "    </tr>\n",
       "    <tr>\n",
       "      <th>2</th>\n",
       "      <td>네이버지도</td>\n",
       "      <td>겐로쿠우동</td>\n",
       "      <td>라멘 / 소바 / 우동</td>\n",
       "      <td>11:30 - 21:30</td>\n",
       "      <td>조앙</td>\n",
       "      <td>2021-11-06</td>\n",
       "    </tr>\n",
       "    <tr>\n",
       "      <th>3</th>\n",
       "      <td>네이버지도</td>\n",
       "      <td>겐로쿠우동</td>\n",
       "      <td>라멘 / 소바 / 우동</td>\n",
       "      <td>11:30 - 21:30</td>\n",
       "      <td>고기 양에 비해서 너무 비싸요   면은 원가가 저렴하니까 추가해도 손해가 없어서 8...</td>\n",
       "      <td>2021-11-01</td>\n",
       "    </tr>\n",
       "    <tr>\n",
       "      <th>4</th>\n",
       "      <td>네이버지도</td>\n",
       "      <td>겐로쿠우동</td>\n",
       "      <td>라멘 / 소바 / 우동</td>\n",
       "      <td>11:30 - 21:30</td>\n",
       "      <td>직원이 불친절해요</td>\n",
       "      <td>2021-11-01</td>\n",
       "    </tr>\n",
       "    <tr>\n",
       "      <th>...</th>\n",
       "      <td>...</td>\n",
       "      <td>...</td>\n",
       "      <td>...</td>\n",
       "      <td>...</td>\n",
       "      <td>...</td>\n",
       "      <td>...</td>\n",
       "    </tr>\n",
       "    <tr>\n",
       "      <th>18987</th>\n",
       "      <td>인스타그램</td>\n",
       "      <td>혼가츠대학로점</td>\n",
       "      <td>NaN</td>\n",
       "      <td>NaN</td>\n",
       "      <td>퀄리티 좋은 대학로 돈까스 맛집    원래 돈까스를 좋아하기도 하고이 집이 진짜...</td>\n",
       "      <td>2021-02-12</td>\n",
       "    </tr>\n",
       "    <tr>\n",
       "      <th>18989</th>\n",
       "      <td>인스타그램</td>\n",
       "      <td>혼가츠대학로점</td>\n",
       "      <td>NaN</td>\n",
       "      <td>NaN</td>\n",
       "      <td>일상그램 댓글소통 일상생활 맞팔해요우리 선맞팔 일상사진 맞팔댓 일상스타그램 소소한...</td>\n",
       "      <td>2020-12-01</td>\n",
       "    </tr>\n",
       "    <tr>\n",
       "      <th>18990</th>\n",
       "      <td>인스타그램</td>\n",
       "      <td>혼가츠대학로점</td>\n",
       "      <td>NaN</td>\n",
       "      <td>NaN</td>\n",
       "      <td>혼가츠대학로점</td>\n",
       "      <td>2020-11-28</td>\n",
       "    </tr>\n",
       "    <tr>\n",
       "      <th>18993</th>\n",
       "      <td>인스타그램</td>\n",
       "      <td>혼가츠대학로점</td>\n",
       "      <td>NaN</td>\n",
       "      <td>NaN</td>\n",
       "      <td>치즈가 살아있다      사실 돈까스는 어딜가나 비슷하기 마련이어서  맛집이다...</td>\n",
       "      <td>2020-10-26</td>\n",
       "    </tr>\n",
       "    <tr>\n",
       "      <th>18994</th>\n",
       "      <td>인스타그램</td>\n",
       "      <td>혼가츠대학로점</td>\n",
       "      <td>NaN</td>\n",
       "      <td>NaN</td>\n",
       "      <td>혼가츠  서울 종로구 대명길 24 지하 1층  먹스타그램  맛스타그램  푸드스타그...</td>\n",
       "      <td>2020-10-02</td>\n",
       "    </tr>\n",
       "  </tbody>\n",
       "</table>\n",
       "<p>12352 rows × 6 columns</p>\n",
       "</div>"
      ],
      "text/plain": [
       "        site restaurant          type           time  \\\n",
       "0      인스타그램      겐로쿠우동  라멘 / 소바 / 우동  11:30 - 21:30   \n",
       "1      네이버지도      겐로쿠우동  라멘 / 소바 / 우동  11:30 - 21:30   \n",
       "2      네이버지도      겐로쿠우동  라멘 / 소바 / 우동  11:30 - 21:30   \n",
       "3      네이버지도      겐로쿠우동  라멘 / 소바 / 우동  11:30 - 21:30   \n",
       "4      네이버지도      겐로쿠우동  라멘 / 소바 / 우동  11:30 - 21:30   \n",
       "...      ...        ...           ...            ...   \n",
       "18987  인스타그램    혼가츠대학로점           NaN            NaN   \n",
       "18989  인스타그램    혼가츠대학로점           NaN            NaN   \n",
       "18990  인스타그램    혼가츠대학로점           NaN            NaN   \n",
       "18993  인스타그램    혼가츠대학로점           NaN            NaN   \n",
       "18994  인스타그램    혼가츠대학로점           NaN            NaN   \n",
       "\n",
       "                                                  review        date  \n",
       "0       겐로쿠우동대학로점  겐로쿠우동  니쿠우동  서울맛집  대학로맛집  혜화동맛집  우...  2021-11-09  \n",
       "1                                         너무 맛있고 전통있는 맛집  2021-11-06  \n",
       "2                                                     조앙  2021-11-06  \n",
       "3      고기 양에 비해서 너무 비싸요   면은 원가가 저렴하니까 추가해도 손해가 없어서 8...  2021-11-01  \n",
       "4                                              직원이 불친절해요  2021-11-01  \n",
       "...                                                  ...         ...  \n",
       "18987    퀄리티 좋은 대학로 돈까스 맛집    원래 돈까스를 좋아하기도 하고이 집이 진짜...  2021-02-12  \n",
       "18989   일상그램 댓글소통 일상생활 맞팔해요우리 선맞팔 일상사진 맞팔댓 일상스타그램 소소한...  2020-12-01  \n",
       "18990                                            혼가츠대학로점  2020-11-28  \n",
       "18993     치즈가 살아있다      사실 돈까스는 어딜가나 비슷하기 마련이어서  맛집이다...  2020-10-26  \n",
       "18994   혼가츠  서울 종로구 대명길 24 지하 1층  먹스타그램  맛스타그램  푸드스타그...  2020-10-02  \n",
       "\n",
       "[12352 rows x 6 columns]"
      ]
     },
     "execution_count": 14,
     "metadata": {},
     "output_type": "execute_result"
    }
   ],
   "source": [
    "# 2020.10.01 이전 행 삭제\n",
    "df = df.query('\"2020-10-01\"<= date <= \"2021-11-17\"')\n",
    "df"
   ]
  },
  {
   "cell_type": "code",
   "execution_count": 15,
   "metadata": {},
   "outputs": [],
   "source": [
    "df.to_csv(\"FinalTotal.csv\")"
   ]
  },
  {
   "cell_type": "code",
   "execution_count": 7,
   "metadata": {},
   "outputs": [],
   "source": [
    "df = pd.read_csv(\"FinalTotal.csv\", engine='python', encoding='cp949')"
   ]
  },
  {
   "cell_type": "markdown",
   "metadata": {},
   "source": [
    "##### + 중간 전처리 과정 생략 (엑셀): 공백 행 제거 / 중국어 및 일본어 리뷰 행 제거 / 영어 리뷰 번역본 대체"
   ]
  },
  {
   "cell_type": "code",
   "execution_count": 9,
   "metadata": {},
   "outputs": [
    {
     "data": {
      "text/plain": [
       "0         겐로쿠우동대학로점  겐로쿠우동  니쿠우동  서울맛집  대학로맛집  혜화동맛집  우...\n",
       "1                                           너무 맛있고 전통있는 맛집\n",
       "2                                                       조앙\n",
       "3        고기 양에 비해서 너무 비싸요   면은 원가가 저렴하니까 추가해도 손해가 없어서 8...\n",
       "4                                                직원이 불친절해요\n",
       "                               ...                        \n",
       "12347      퀄리티 좋은 대학로 돈까스 맛집    원래 돈까스를 좋아하기도 하고이 집이 진짜...\n",
       "12348     일상그램 댓글소통 일상생활 맞팔해요우리 선맞팔 일상사진 맞팔댓 일상스타그램 소소한...\n",
       "12349                                              혼가츠대학로점\n",
       "12350       치즈가 살아있다      사실 돈까스는 어딜가나 비슷하기 마련이어서  맛집이다...\n",
       "12351     혼가츠  서울 종로구 대명길 24 지하 1층  먹스타그램  맛스타그램  푸드스타그...\n",
       "Name: review, Length: 12351, dtype: object"
      ]
     },
     "execution_count": 9,
     "metadata": {},
     "output_type": "execute_result"
    }
   ],
   "source": [
    "df['review'].dropna(axis=0)"
   ]
  },
  {
   "cell_type": "markdown",
   "metadata": {},
   "source": [
    "### 공백 뭉텅이 지우기"
   ]
  },
  {
   "cell_type": "code",
   "execution_count": 52,
   "metadata": {},
   "outputs": [],
   "source": [
    "# 공백이 1번만 나오도록 대체 (정규표현식 '+'는 1번을 의미함)\n",
    "def remove(str_content):\n",
    "    return re.sub(' +', ' ', str_content)"
   ]
  },
  {
   "cell_type": "code",
   "execution_count": 53,
   "metadata": {},
   "outputs": [
    {
     "name": "stderr",
     "output_type": "stream",
     "text": [
      "C:\\Users\\82105\\AppData\\Local\\Programs\\Python\\Python310\\lib\\site-packages\\pandas\\core\\indexing.py:1732: SettingWithCopyWarning: \n",
      "A value is trying to be set on a copy of a slice from a DataFrame\n",
      "\n",
      "See the caveats in the documentation: https://pandas.pydata.org/pandas-docs/stable/user_guide/indexing.html#returning-a-view-versus-a-copy\n",
      "  self._setitem_single_block(indexer, value, name)\n"
     ]
    }
   ],
   "source": [
    "for i in range(len(df['review'])):\n",
    "    try:\n",
    "        # iloc: 인덱스 번호로 행 추출\n",
    "        original = df['review'].iloc[i] \n",
    "        rr = remove(original)\n",
    "        df['review'].iloc[i] = rr\n",
    "    except:\n",
    "        pass"
   ]
  },
  {
   "cell_type": "code",
   "execution_count": 51,
   "metadata": {},
   "outputs": [],
   "source": [
    "df.to_csv(\"RealFinalTotal.csv\")"
   ]
  }
 ],
 "metadata": {
  "interpreter": {
   "hash": "218d0a86f9e6243480a5996473a1bbe992232922d4f2c99c404420beb83db5b8"
  },
  "kernelspec": {
   "display_name": "Python 3.8.2 32-bit",
   "language": "python",
   "name": "python3"
  },
  "language_info": {
   "codemirror_mode": {
    "name": "ipython",
    "version": 3
   },
   "file_extension": ".py",
   "mimetype": "text/x-python",
   "name": "python",
   "nbconvert_exporter": "python",
   "pygments_lexer": "ipython3",
   "version": "3.10.0"
  },
  "orig_nbformat": 4
 },
 "nbformat": 4,
 "nbformat_minor": 2
}
